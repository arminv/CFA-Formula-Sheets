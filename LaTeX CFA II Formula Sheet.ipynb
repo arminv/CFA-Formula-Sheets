{
 "cells": [
  {
   "cell_type": "markdown",
   "metadata": {
    "collapsed": true
   },
   "source": [
    "# CFA Level II Formula Sheets - SS 3"
   ]
  },
  {
   "cell_type": "markdown",
   "metadata": {},
   "source": [
    "**Correlation Coefficient**\n",
    "$$\n",
    "\\displaystyle\n",
    "=\\frac{Cov(X,Y)}{\\sigma_X  \\cdot \\sigma_Y} \n",
    "$$"
   ]
  },
  {
   "cell_type": "markdown",
   "metadata": {},
   "source": [
    "**_________________________________________________________________________________________________________________________________________**"
   ]
  },
  {
   "cell_type": "markdown",
   "metadata": {},
   "source": [
    "**Cov (X,Y)**\n",
    "$$\n",
    "\\displaystyle\n",
    "= \\frac{\\Sigma\\,(X_i-\\overline{X})(Y_i-\\overline{Y})}{n-1}\n",
    "$$"
   ]
  },
  {
   "cell_type": "markdown",
   "metadata": {},
   "source": [
    "**_________________________________________________________________________________________________________________________________________**"
   ]
  },
  {
   "cell_type": "markdown",
   "metadata": {},
   "source": [
    "**t-statistic (for population correlation significance)**\n",
    "$$\n",
    "\\displaystyle\n",
    "= t = \\frac{r\\sqrt{n-2}}{\\sqrt{1-r^2}} \\,\\,\\,\\,\\,\\,\\,\\,\\,\\,\\,\\,\\,\\, where:\\, df = n-2\n",
    "$$"
   ]
  },
  {
   "cell_type": "markdown",
   "metadata": {},
   "source": [
    "**_________________________________________________________________________________________________________________________________________**"
   ]
  },
  {
   "cell_type": "markdown",
   "metadata": {},
   "source": [
    "**t-statistic (ANOVA table)**\n",
    "$$\n",
    "\\displaystyle\n",
    "= \\frac{Coefficient\\,(i.e. slope)}{Standard\\,Error\\,of\\,Estimate} \n",
    "$$"
   ]
  },
  {
   "cell_type": "markdown",
   "metadata": {},
   "source": [
    "**_________________________________________________________________________________________________________________________________________**"
   ]
  },
  {
   "cell_type": "markdown",
   "metadata": {},
   "source": [
    "**Rule of Thumb**\n",
    "$$\n",
    "\\displaystyle\n",
    ": |t-statistic| = \\begin{cases}\n",
    "    Significant   & > 4 \\\\\n",
    "    Not\\,Significant & x<1.5\n",
    "    \\end{cases}\n",
    "$$"
   ]
  },
  {
   "cell_type": "markdown",
   "metadata": {},
   "source": [
    "**_________________________________________________________________________________________________________________________________________**"
   ]
  },
  {
   "cell_type": "markdown",
   "metadata": {},
   "source": [
    "**Standard Error of Estimate = Standard Deviation of Regression Residuals**\n",
    "$$\n",
    "\\displaystyle\n",
    " = \\sqrt{\\frac{\\Sigma(Actual-Predicted)^2}{n-2}} = \\sqrt{\\frac{\\Sigma(\\epsilon)^2}{n-2}} = \\sqrt{\\frac{Unexplained\\,Variation\\,(SSE)}{n-2}}\n",
    "$$"
   ]
  },
  {
   "cell_type": "markdown",
   "metadata": {},
   "source": [
    "**_________________________________________________________________________________________________________________________________________**"
   ]
  },
  {
   "cell_type": "markdown",
   "metadata": {},
   "source": [
    "**F-statistic (Single regression)**\n",
    "$$\n",
    "\\displaystyle\n",
    " = \\frac{RSS/1}{SSE / (n-2)} = (t-statistic)^2\n",
    "$$"
   ]
  },
  {
   "cell_type": "markdown",
   "metadata": {},
   "source": [
    "**_________________________________________________________________________________________________________________________________________**"
   ]
  },
  {
   "cell_type": "markdown",
   "metadata": {},
   "source": [
    "**Degrees of Freedom**\n",
    "$$\n",
    "\\displaystyle\n",
    "= Sample\\,Size - Number\\,of\\,Independent\\,Variables\\,- 1\n",
    "$$"
   ]
  },
  {
   "cell_type": "markdown",
   "metadata": {},
   "source": [
    "**_________________________________________________________________________________________________________________________________________**"
   ]
  },
  {
   "cell_type": "markdown",
   "metadata": {},
   "source": [
    "**Confidence Interval (always a two-tailed test)**\n",
    "$$\n",
    "\\displaystyle\n",
    "=Point\\,Estimate\\, \\pm [Critical\\,t\\,(from\\, tables)\\, \\times Standard\\,Error\\,of\\, Estimate]\n",
    "$$"
   ]
  },
  {
   "cell_type": "markdown",
   "metadata": {},
   "source": [
    "**_________________________________________________________________________________________________________________________________________**"
   ]
  },
  {
   "cell_type": "markdown",
   "metadata": {
    "collapsed": true
   },
   "source": [
    "**R-squared**\n",
    "$$\n",
    "\\displaystyle\n",
    "= R^2 \\,= \\frac{Explained\\,Variation}{Total\\,Variation} = 1- \\frac{Unexplained\\,Variation}{Total\\,Variation}\n",
    "$$"
   ]
  },
  {
   "cell_type": "markdown",
   "metadata": {},
   "source": [
    "**_________________________________________________________________________________________________________________________________________**"
   ]
  },
  {
   "cell_type": "markdown",
   "metadata": {
    "collapsed": true
   },
   "source": [
    "**Adjusted R-squared**\n",
    "$$\n",
    "\\displaystyle\n",
    "= 1 - (\\frac{n-1}{n-k-1}) \\times (1-R^2)\n",
    "$$"
   ]
  },
  {
   "cell_type": "markdown",
   "metadata": {},
   "source": [
    "**_________________________________________________________________________________________________________________________________________**"
   ]
  },
  {
   "cell_type": "markdown",
   "metadata": {
    "collapsed": true
   },
   "source": [
    "**Total Variation (TSS)**\n",
    "$$\n",
    "\\displaystyle\n",
    "= \\text{Sum of Squared Residuals/Errors (SSE) + Regression Sum of Squares (RSS)}\n",
    "$$"
   ]
  },
  {
   "cell_type": "markdown",
   "metadata": {},
   "source": [
    "**_________________________________________________________________________________________________________________________________________**"
   ]
  },
  {
   "cell_type": "markdown",
   "metadata": {
    "collapsed": true
   },
   "source": [
    "**Sample Variance**\n",
    "$$\n",
    "\\displaystyle\n",
    "= \\frac{TSS}{n-1}\n",
    "$$"
   ]
  },
  {
   "cell_type": "markdown",
   "metadata": {},
   "source": [
    "**_________________________________________________________________________________________________________________________________________**"
   ]
  },
  {
   "cell_type": "markdown",
   "metadata": {
    "collapsed": true
   },
   "source": [
    "**Estimated Variance of the Prediction Error (use for dependent variables)**\n",
    "$$\n",
    "\\displaystyle\n",
    "= S_f^2 = S^2 [1+ \\frac{1}{n} + \\frac{(X-\\overline{X})^2}{(n-1) S_x^2}]\n",
    "$$"
   ]
  },
  {
   "cell_type": "markdown",
   "metadata": {},
   "source": [
    "**_________________________________________________________________________________________________________________________________________**"
   ]
  },
  {
   "cell_type": "markdown",
   "metadata": {
    "collapsed": true
   },
   "source": [
    "**F-statistic (Multiple regression)**\n",
    "$$\n",
    "\\displaystyle\n",
    "= \\frac{Mean\\,regression\\,sum\\,of\\,squares\\,(MSR)}{Mean\\,squared\\,error\\,(MSE)} = \\frac{ \\frac{RSS}{k} }{ \\frac{SSE}{n-k-1} }\n",
    "\\\\ where\\, : k = number\\,of\\,independent\\,variable(s)\n",
    "$$"
   ]
  },
  {
   "cell_type": "markdown",
   "metadata": {},
   "source": [
    "**_________________________________________________________________________________________________________________________________________**"
   ]
  },
  {
   "cell_type": "markdown",
   "metadata": {},
   "source": [
    "**Observed Chi-squared (for Breusch-Pagan Test)**\n",
    "$$\n",
    "\\displaystyle\n",
    "= \\chi^2 \\sim nR^2\n",
    "\\\\ where\\, : df = k = number\\,of\\,independent\\,variable(s) \n",
    "$$"
   ]
  },
  {
   "cell_type": "markdown",
   "metadata": {},
   "source": [
    "**_________________________________________________________________________________________________________________________________________**"
   ]
  },
  {
   "cell_type": "markdown",
   "metadata": {},
   "source": [
    "**Durbin-Watson Value (for very large samples)**\n",
    "$$\n",
    "\\displaystyle\n",
    "= DW = 2(1-r)\n",
    "\\\\ where\\, : r = sample \\,correlation\\, of\\, residuals\\, from\\, one\\, period\\, and\\, those\\, of\\, the\\, previous\\, period\n",
    "$$"
   ]
  },
  {
   "cell_type": "markdown",
   "metadata": {},
   "source": [
    "**_________________________________________________________________________________________________________________________________________**"
   ]
  },
  {
   "cell_type": "markdown",
   "metadata": {},
   "source": [
    "** Durbin-Watson Decision Criteria**\n",
    "$$\n",
    "\\displaystyle\n",
    "  Decision\\, \\to \\begin{cases}\n",
    "    Not\\,serially\\,correlated   & DW= 2 \\\\\n",
    "    +ve & 0<DW<2 \\\\\n",
    "    -ve & 2<DW<4 \n",
    "    \\end{cases}\n",
    "$$"
   ]
  },
  {
   "cell_type": "markdown",
   "metadata": {},
   "source": [
    "**_________________________________________________________________________________________________________________________________________**"
   ]
  },
  {
   "cell_type": "markdown",
   "metadata": {},
   "source": [
    "**Standard Error of Residual Correlations (Autocorrelations)**\n",
    "$$\n",
    "\\displaystyle\n",
    "= \\frac{1}{\\sqrt{T}}\n",
    "\\\\ where\\, : T = number\\,of\\,observations \n",
    "$$"
   ]
  },
  {
   "cell_type": "markdown",
   "metadata": {},
   "source": [
    "**_________________________________________________________________________________________________________________________________________**"
   ]
  },
  {
   "cell_type": "markdown",
   "metadata": {},
   "source": [
    "**Mean-Reverting Level**\n",
    "$$\n",
    "\\displaystyle\n",
    "= \\frac{b_0}{1-b_1} = \\frac{Intercept}{1-Coefficient}\n",
    "$$"
   ]
  },
  {
   "cell_type": "markdown",
   "metadata": {},
   "source": [
    "**_________________________________________________________________________________________________________________________________________**"
   ]
  },
  {
   "cell_type": "markdown",
   "metadata": {},
   "source": [
    "**_________________________________________________________________________________________________________________________________________**"
   ]
  },
  {
   "cell_type": "markdown",
   "metadata": {},
   "source": [
    "# SS 4 :\n"
   ]
  },
  {
   "cell_type": "markdown",
   "metadata": {},
   "source": []
  },
  {
   "cell_type": "code",
   "execution_count": null,
   "metadata": {
    "collapsed": true
   },
   "outputs": [],
   "source": []
  },
  {
   "cell_type": "code",
   "execution_count": null,
   "metadata": {
    "collapsed": true
   },
   "outputs": [],
   "source": []
  },
  {
   "cell_type": "code",
   "execution_count": null,
   "metadata": {
    "collapsed": true
   },
   "outputs": [],
   "source": []
  },
  {
   "cell_type": "code",
   "execution_count": null,
   "metadata": {
    "collapsed": true
   },
   "outputs": [],
   "source": []
  },
  {
   "cell_type": "code",
   "execution_count": null,
   "metadata": {
    "collapsed": true
   },
   "outputs": [],
   "source": []
  },
  {
   "cell_type": "code",
   "execution_count": null,
   "metadata": {
    "collapsed": true
   },
   "outputs": [],
   "source": []
  },
  {
   "cell_type": "code",
   "execution_count": null,
   "metadata": {
    "collapsed": true
   },
   "outputs": [],
   "source": []
  },
  {
   "cell_type": "code",
   "execution_count": null,
   "metadata": {
    "collapsed": true
   },
   "outputs": [],
   "source": []
  },
  {
   "cell_type": "code",
   "execution_count": null,
   "metadata": {
    "collapsed": true
   },
   "outputs": [],
   "source": []
  },
  {
   "cell_type": "code",
   "execution_count": null,
   "metadata": {
    "collapsed": true
   },
   "outputs": [],
   "source": []
  },
  {
   "cell_type": "code",
   "execution_count": null,
   "metadata": {
    "collapsed": true
   },
   "outputs": [],
   "source": []
  },
  {
   "cell_type": "code",
   "execution_count": null,
   "metadata": {
    "collapsed": true
   },
   "outputs": [],
   "source": []
  },
  {
   "cell_type": "code",
   "execution_count": null,
   "metadata": {
    "collapsed": true
   },
   "outputs": [],
   "source": []
  },
  {
   "cell_type": "code",
   "execution_count": null,
   "metadata": {
    "collapsed": true
   },
   "outputs": [],
   "source": []
  },
  {
   "cell_type": "code",
   "execution_count": null,
   "metadata": {
    "collapsed": true
   },
   "outputs": [],
   "source": []
  },
  {
   "cell_type": "code",
   "execution_count": null,
   "metadata": {
    "collapsed": true
   },
   "outputs": [],
   "source": []
  },
  {
   "cell_type": "code",
   "execution_count": null,
   "metadata": {
    "collapsed": true
   },
   "outputs": [],
   "source": []
  },
  {
   "cell_type": "code",
   "execution_count": null,
   "metadata": {
    "collapsed": true
   },
   "outputs": [],
   "source": []
  },
  {
   "cell_type": "code",
   "execution_count": null,
   "metadata": {
    "collapsed": true
   },
   "outputs": [],
   "source": []
  }
 ],
 "metadata": {
  "kernelspec": {
   "display_name": "Python 3",
   "language": "python",
   "name": "python3"
  },
  "language_info": {
   "codemirror_mode": {
    "name": "ipython",
    "version": 3
   },
   "file_extension": ".py",
   "mimetype": "text/x-python",
   "name": "python",
   "nbconvert_exporter": "python",
   "pygments_lexer": "ipython3",
   "version": "3.6.2"
  },
  "toc": {
   "colors": {
    "hover_highlight": "#DAA520",
    "navigate_num": "#000000",
    "navigate_text": "#333333",
    "running_highlight": "#FF0000",
    "selected_highlight": "#FFD700",
    "sidebar_border": "#EEEEEE",
    "wrapper_background": "#FFFFFF"
   },
   "moveMenuLeft": true,
   "nav_menu": {
    "height": "12px",
    "width": "252px"
   },
   "navigate_menu": true,
   "number_sections": true,
   "sideBar": true,
   "threshold": 4,
   "toc_cell": false,
   "toc_section_display": "block",
   "toc_window_display": false,
   "widenNotebook": false
  }
 },
 "nbformat": 4,
 "nbformat_minor": 2
}
